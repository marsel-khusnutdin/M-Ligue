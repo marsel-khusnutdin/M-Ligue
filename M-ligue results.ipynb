{
 "cells": [
  {
   "cell_type": "markdown",
   "id": "86b64cfa",
   "metadata": {},
   "source": [
    "# Creating and filling a consolidated table of M-ligue results"
   ]
  },
  {
   "cell_type": "markdown",
   "id": "08f5f1b4",
   "metadata": {},
   "source": [
    "### Create Consolidated table for all tournaments\n",
    "\n",
    "Execute this step only the first time. This code creates empty file with specific column headers, and ongoing tournaments result are going to be appended to this file."
   ]
  },
  {
   "cell_type": "code",
   "execution_count": 237,
   "id": "83064e49",
   "metadata": {},
   "outputs": [],
   "source": [
    "import pandas as pd\n",
    "\n",
    "Consolidated = pd.ExcelWriter('Consolidated.xlsx')\n",
    "df = pd.DataFrame(columns = ['Rank', 'Team', 'City', 'ID', 'Captain', 'Location', 'Status', 'Total', 'Time','Question','Result','Tournament'])\n",
    "df.to_excel('Consolidated.xlsx',index=0)"
   ]
  },
  {
   "cell_type": "markdown",
   "id": "e54acaa1",
   "metadata": {},
   "source": [
    "### Prepare Consolidated table\n",
    "\n",
    "Start from this step if you already have a Consolidated table file.\n",
    "\n",
    "Consolidated table should be opened and ready when we will append manipulated data in it."
   ]
  },
  {
   "cell_type": "code",
   "execution_count": 12,
   "id": "9c3ab835",
   "metadata": {},
   "outputs": [],
   "source": [
    "import pandas as pd\n",
    "\n",
    "df = pd.read_excel('Consolidated.xlsx')"
   ]
  },
  {
   "cell_type": "markdown",
   "id": "ffc183b4",
   "metadata": {},
   "source": [
    "### Download the results of the particular game\n",
    "\n",
    "After the game finished the file with results is ready to download from the chgk-world.ru page."
   ]
  },
  {
   "cell_type": "code",
   "execution_count": 3,
   "id": "88f2097b",
   "metadata": {},
   "outputs": [
    {
     "data": {
      "text/plain": [
       "('2022 July Final2.xlsx', <http.client.HTTPMessage at 0x28e50cb1a60>)"
      ]
     },
     "execution_count": 3,
     "metadata": {},
     "output_type": "execute_result"
    }
   ],
   "source": [
    "import urllib.request\n",
    "\n",
    "#Find and replace old Excel file name with a new one using 'F' command.\n",
    "destination = r\"C:\\Users\\Lenovo\\3 Work\\Data Visualisation\\Projects\\Son of mom's friend\\Games results\\2022 July Final2.xlsx\"\n",
    "\n",
    "# Insert the link to the game results you want to download.\n",
    "url = 'https://chgk-world.ru/tournaments/1166/table/simple/verbose.xlsx'\n",
    "\n",
    "urllib.request.urlretrieve(url, destination)"
   ]
  },
  {
   "cell_type": "markdown",
   "id": "d8141c8e",
   "metadata": {},
   "source": [
    "### Change '+' and '-' to '1' and '0' as a description of right and wrong answers\n",
    "\n",
    "Correct and incorrect answers are depicted as '+'s and '-'s. To be able to manipulate and aggregate them as numbers let's change them to 1 and 0."
   ]
  },
  {
   "cell_type": "code",
   "execution_count": 4,
   "id": "ab04c6e0",
   "metadata": {},
   "outputs": [],
   "source": [
    "from pathlib import Path\n",
    "import openpyxl\n",
    "\n",
    "replacement_pair = {\"+\": \"1\", \"-\": \"0\", \"?\": \"0\", \"\": \"0\"}\n",
    "\n",
    "wb = openpyxl.load_workbook(r\"C:\\Users\\Lenovo\\3 Work\\Data Visualisation\\Projects\\Son of mom's friend\\Games results\\2022 July Final2.xlsx\")\n",
    "\n",
    "for ws in wb.worksheets:\n",
    "    for row in ws.iter_rows():\n",
    "        for cell in row:\n",
    "            if cell.value in replacement_pair.keys():\n",
    "                cell.value = replacement_pair.get(cell.value)\n",
    "                \n",
    "wb.save(r\"C:\\Users\\Lenovo\\3 Work\\Data Visualisation\\Projects\\Son of mom's friend\\Games results\\2022 July Final2.xlsx\")"
   ]
  },
  {
   "cell_type": "markdown",
   "id": "0e70b82c",
   "metadata": {},
   "source": [
    "### Pivoting number of questions from columns to values\n",
    "\n",
    "In the initial file we downloaded from the web-page every question's result shown in a separate column. We want to transform the table so we had one column for question's number and one column for result of the particular team on this question (1 or 0)."
   ]
  },
  {
   "cell_type": "code",
   "execution_count": 5,
   "id": "5e1bfe53",
   "metadata": {},
   "outputs": [],
   "source": [
    "wb = pd.read_excel(r\"C:\\Users\\Lenovo\\3 Work\\Data Visualisation\\Projects\\Son of mom's friend\\Games results\\2022 July Final2.xlsx\")\n",
    "\n",
    "wb = wb.melt(id_vars = [\"#\",\"Название\",\"Город\", \"Makid\", \"Капитан\", \"Площадка\", \"Зачет\", \"Сумма\", \"Время+\"], \n",
    "            var_name = \"Question\")   \n",
    "\n",
    "wb.to_excel(r\"C:\\Users\\Lenovo\\3 Work\\Data Visualisation\\Projects\\Son of mom's friend\\Games results\\2022 July Final2.xlsx\",index=0)"
   ]
  },
  {
   "cell_type": "markdown",
   "id": "1ada8157",
   "metadata": {},
   "source": [
    "### Rename columns\n",
    "\n",
    "Change column names to the ones how they will be shown in further visualization."
   ]
  },
  {
   "cell_type": "code",
   "execution_count": 6,
   "id": "cac208fe",
   "metadata": {},
   "outputs": [],
   "source": [
    "wb.rename(columns = {'#':'Rank', 'Название':'Team', 'Город':'City', 'Makid':'ID', 'Капитан':'Captain', 'Площадка':'Location', \n",
    "                     'Зачет':'Status', 'Сумма':'Total', 'Время+':'Time', 'value':'Result'}, inplace = True)\n",
    "\n",
    "wb.to_excel(r\"C:\\Users\\Lenovo\\3 Work\\Data Visualisation\\Projects\\Son of mom's friend\\Games results\\2022 July Final2.xlsx\",index=0)"
   ]
  },
  {
   "cell_type": "markdown",
   "id": "0db05e37",
   "metadata": {},
   "source": [
    "### Add file name to column\n",
    "\n",
    "Since we are going to add the game results after every game, we want to understand what game it was. There is no information about the game in the initial file, so we want to add game name to our file."
   ]
  },
  {
   "cell_type": "code",
   "execution_count": 7,
   "id": "b5fcf443",
   "metadata": {},
   "outputs": [],
   "source": [
    "wb['Tournament'] = '2022 July Final2'\n",
    "\n",
    "wb.to_excel(r\"C:\\Users\\Lenovo\\3 Work\\Data Visualisation\\Projects\\Son of mom's friend\\Games results\\2022 July Final2.xlsx\",index=0)"
   ]
  },
  {
   "cell_type": "markdown",
   "id": "895152b9",
   "metadata": {},
   "source": [
    "### Append last tournament to Consolidated file\n",
    "\n",
    "After we finished manipulating downloaded file, let's add it to our database."
   ]
  },
  {
   "cell_type": "code",
   "execution_count": 14,
   "id": "5a014692",
   "metadata": {},
   "outputs": [],
   "source": [
    "pd.concat([df,wb]).to_excel('Consolidated.xlsx',index=0)"
   ]
  }
 ],
 "metadata": {
  "kernelspec": {
   "display_name": "Python 3 (ipykernel)",
   "language": "python",
   "name": "python3"
  },
  "language_info": {
   "codemirror_mode": {
    "name": "ipython",
    "version": 3
   },
   "file_extension": ".py",
   "mimetype": "text/x-python",
   "name": "python",
   "nbconvert_exporter": "python",
   "pygments_lexer": "ipython3",
   "version": "3.9.12"
  }
 },
 "nbformat": 4,
 "nbformat_minor": 5
}
