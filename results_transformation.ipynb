{
 "cells": [
  {
   "cell_type": "markdown",
   "id": "86b64cfa",
   "metadata": {},
   "source": [
    "# Creating and filling a consolidated table of M-ligue results"
   ]
  },
  {
   "cell_type": "markdown",
   "id": "b2eab55c",
   "metadata": {},
   "source": [
    "### 1. Setup\n",
    "\n",
    "Define base folders, filenames, and URLs.\n",
    "Only change the tournament_name and url each time you process a new tournament."
   ]
  },
  {
   "cell_type": "code",
   "execution_count": 1,
   "id": "87d825db",
   "metadata": {},
   "outputs": [],
   "source": [
    "from pathlib import Path\n",
    "import pandas as pd\n",
    "import urllib.request\n",
    "from openpyxl import load_workbook\n",
    "\n",
    "# Base folder where game results are stored\n",
    "base_dir = Path(r\"C:\\Users\\Lenovo\\3 Work\\Data Visualisation\\Projects\\Tournaments\\Game results\")\n",
    "\n",
    "# Consolidated results file\n",
    "consolidated_path = base_dir / \"Consolidated.xlsx\"\n",
    "\n",
    "# Define current tournament\n",
    "tournament_name = \"2025 July Final\"\n",
    "\n",
    "# Path for the downloaded tournament file\n",
    "destination = base_dir / f\"{tournament_name}.xlsx\"\n",
    "\n",
    "# Download URL for the tournament results\n",
    "url = \"https://chgk-world.ru/rails/active_storage/blobs/redirect/eyJfcmFpbHMiOnsiZGF0YSI6MzY0NTQyLCJwdXIiOiJibG9iX2lkIn19--a8a125f0ce9a166f4b2538e4858372fb2f36e56a/tournament-2034-table.xlsx\""
   ]
  },
  {
   "cell_type": "markdown",
   "id": "08f5f1b4",
   "metadata": {},
   "source": [
    "### 2. Create Consolidated table for all tournaments\n",
    "\n",
    "Run this step only the first time you set up the consolidated file.\n",
    "It creates an empty Excel file with all required columns."
   ]
  },
  {
   "cell_type": "code",
   "execution_count": 2,
   "id": "83064e49",
   "metadata": {},
   "outputs": [
    {
     "name": "stdout",
     "output_type": "stream",
     "text": [
      "Created new Consolidated.xlsx file.\n"
     ]
    }
   ],
   "source": [
    "if not consolidated_path.exists():\n",
    "    columns = ['Rank', 'Team', 'City', 'Team ID', 'Captain', 'Tour', 'Location', 'Status',\n",
    "               'Total', 'Time', 'Question', 'Result', 'Tournament']\n",
    "    pd.DataFrame(columns=columns).to_excel(consolidated_path, index=False)\n",
    "    print(\"Created new Consolidated.xlsx file.\")\n",
    "else:\n",
    "    print(\"Consolidated.xlsx already exists, skipping creation.\")"
   ]
  },
  {
   "cell_type": "markdown",
   "id": "e54acaa1",
   "metadata": {},
   "source": [
    "### 3. Prepare Consolidated table\n",
    "\n",
    "Start here if the file already exists."
   ]
  },
  {
   "cell_type": "code",
   "execution_count": 3,
   "id": "9c3ab835",
   "metadata": {},
   "outputs": [
    {
     "name": "stdout",
     "output_type": "stream",
     "text": [
      "Loaded Consolidated file with 0 rows.\n"
     ]
    }
   ],
   "source": [
    "df_consolidated = pd.read_excel(consolidated_path)\n",
    "print(f\"Loaded Consolidated file with {len(df_consolidated)} rows.\")"
   ]
  },
  {
   "cell_type": "markdown",
   "id": "ffc183b4",
   "metadata": {},
   "source": [
    "### 4. Download the results of the particular game\n",
    "\n",
    "After a game finishes, you can download its Excel results directly from chgk-world.ru."
   ]
  },
  {
   "cell_type": "code",
   "execution_count": 4,
   "id": "88f2097b",
   "metadata": {},
   "outputs": [
    {
     "name": "stdout",
     "output_type": "stream",
     "text": [
      "Downloaded results to C:\\Users\\Lenovo\\3 Work\\Data Visualisation\\Projects\\Tournaments\\Game results\\2025 July Final.xlsx\n"
     ]
    }
   ],
   "source": [
    "import urllib.request\n",
    "import ssl, certifi\n",
    "\n",
    "# Fix SSL certificate verification (for urllib on Windows)\n",
    "ssl._create_default_https_context = lambda: ssl.create_default_context(cafile=certifi.where())\n",
    "\n",
    "urllib.request.urlretrieve(url, destination)\n",
    "print(f\"Downloaded results to {destination}\")"
   ]
  },
  {
   "cell_type": "markdown",
   "id": "d8141c8e",
   "metadata": {},
   "source": [
    "### 5. Change '+' and '-' to '1' and '0'\n",
    "\n",
    "In the downloaded results, correct and incorrect answers are shown as + and –.\n",
    "We’ll convert them to numeric values (1 for correct, 0 for incorrect) for easier processing later."
   ]
  },
  {
   "cell_type": "code",
   "execution_count": 5,
   "id": "ab04c6e0",
   "metadata": {},
   "outputs": [
    {
     "name": "stdout",
     "output_type": "stream",
     "text": [
      "Replaced symbols with numeric values.\n"
     ]
    }
   ],
   "source": [
    "replacement_pair = {\"+\": 1, \"-\": 0, \"?\": 0, None: 0, \"\": 0}\n",
    "\n",
    "wb = load_workbook(destination)\n",
    "for ws in wb.worksheets:\n",
    "    for row in ws.iter_rows():\n",
    "        for cell in row:\n",
    "            if cell.value in replacement_pair:\n",
    "                cell.value = replacement_pair[cell.value]\n",
    "wb.save(destination)\n",
    "\n",
    "print(\"Replaced symbols with numeric values.\")"
   ]
  },
  {
   "cell_type": "markdown",
   "id": "0e70b82c",
   "metadata": {},
   "source": [
    "### 6. Reshaping the table\n",
    "\n",
    "Each question’s result is stored in a separate column.\n",
    "We’ll convert those columns into rows so that each question gets its own record."
   ]
  },
  {
   "cell_type": "code",
   "execution_count": 6,
   "id": "5e1bfe53",
   "metadata": {},
   "outputs": [
    {
     "name": "stdout",
     "output_type": "stream",
     "text": [
      "Transformed questions from columns to rows.\n"
     ]
    }
   ],
   "source": [
    "df_game = pd.read_excel(destination)\n",
    "\n",
    "id_vars = [\n",
    "    \"#\", \"Название\", \"Город\", \"MakId\", \"Капитан\", \"тур 1\", \n",
    "    \"Площадка\", \"Зачет\", \"Сумма\", \"Время+\"\n",
    "]\n",
    "\n",
    "df_game = df_game.melt(id_vars=id_vars, var_name=\"Question\", value_name=\"Result\")\n",
    "df_game.to_excel(destination, index=False)\n",
    "print(\"Transformed questions from columns to rows.\")"
   ]
  },
  {
   "cell_type": "markdown",
   "id": "1ada8157",
   "metadata": {},
   "source": [
    "### 7. Rename columns\n",
    "\n",
    "Rename Russian headers to English ones for consistency in later visualization."
   ]
  },
  {
   "cell_type": "code",
   "execution_count": 7,
   "id": "cac208fe",
   "metadata": {},
   "outputs": [
    {
     "name": "stdout",
     "output_type": "stream",
     "text": [
      "Renamed columns.\n"
     ]
    }
   ],
   "source": [
    "df_game.rename(columns={\n",
    "    \"#\": \"Rank\",\n",
    "    \"Название\": \"Team\",\n",
    "    \"Город\": \"City\",\n",
    "    \"MakId\": \"Team ID\",\n",
    "    \"Капитан\": \"Captain\",\n",
    "    \"тур 1\": \"Tour\",\n",
    "    \"Площадка\": \"Location\",\n",
    "    \"Зачет\": \"Status\",\n",
    "    \"Сумма\": \"Total\",\n",
    "    \"Время+\": \"Time\"\n",
    "}, inplace=True)\n",
    "\n",
    "print(\"Renamed columns.\")"
   ]
  },
  {
   "cell_type": "markdown",
   "id": "0db05e37",
   "metadata": {},
   "source": [
    "### 8. Add Tournament Name\n",
    "\n",
    "Add a column to keep track of which tournament each record belongs to."
   ]
  },
  {
   "cell_type": "code",
   "execution_count": 8,
   "id": "b5fcf443",
   "metadata": {},
   "outputs": [
    {
     "name": "stdout",
     "output_type": "stream",
     "text": [
      "Added tournament name: 2025 July Final\n"
     ]
    }
   ],
   "source": [
    "df_game[\"Tournament\"] = tournament_name\n",
    "df_game.to_excel(destination, index=False)\n",
    "\n",
    "print(f\"Added tournament name: {tournament_name}\")"
   ]
  },
  {
   "cell_type": "markdown",
   "id": "895152b9",
   "metadata": {},
   "source": [
    "### 9. Append Tournament Results to the Consolidated File\n",
    "\n",
    "Finally, merge the cleaned tournament data into your consolidated table and save it."
   ]
  },
  {
   "cell_type": "code",
   "execution_count": 9,
   "id": "5a014692",
   "metadata": {},
   "outputs": [
    {
     "name": "stdout",
     "output_type": "stream",
     "text": [
      "Appended 1980 new rows to Consolidated.xlsx.\n"
     ]
    }
   ],
   "source": [
    "df_updated = pd.concat([df_consolidated, df_game], ignore_index=True)\n",
    "df_updated.to_excel(consolidated_path, index=False)\n",
    "\n",
    "print(f\"Appended {len(df_game)} new rows to Consolidated.xlsx.\")"
   ]
  }
 ],
 "metadata": {
  "kernelspec": {
   "display_name": "Python 3 (ipykernel)",
   "language": "python",
   "name": "python3"
  },
  "language_info": {
   "codemirror_mode": {
    "name": "ipython",
    "version": 3
   },
   "file_extension": ".py",
   "mimetype": "text/x-python",
   "name": "python",
   "nbconvert_exporter": "python",
   "pygments_lexer": "ipython3",
   "version": "3.9.12"
  }
 },
 "nbformat": 4,
 "nbformat_minor": 5
}
